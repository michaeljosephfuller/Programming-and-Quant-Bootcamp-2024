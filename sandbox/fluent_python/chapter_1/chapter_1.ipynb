{
 "cells": [
  {
   "cell_type": "markdown",
   "metadata": {},
   "source": [
    "# Chapter 1: The Python Data Model"
   ]
  },
  {
   "cell_type": "markdown",
   "metadata": {},
   "source": [
    "In this chapter, we'll see how using the special methods in Python, e.g. `__getitem__`, allows us to implement familiar Python syntax in our classes for powerful, readable code."
   ]
  },
  {
   "cell_type": "markdown",
   "metadata": {},
   "source": [
    "## A Pythonic card deck"
   ]
  },
  {
   "cell_type": "markdown",
   "metadata": {},
   "source": [
    "We can leverage the standard library of Python packages to build classes quickly and effectively. Below, we construct a basic playing card class using `collections.namedtuple`. Then we use this simple class as a building block to construct a full deck of cards."
   ]
  },
  {
   "cell_type": "markdown",
   "metadata": {},
   "source": [
    "### Example 1.1: A deck of playing cards"
   ]
  },
  {
   "cell_type": "code",
   "execution_count": 4,
   "metadata": {},
   "outputs": [],
   "source": [
    "# Attributes-only class using namedtuple\n",
    "import collections\n",
    "Card = collections.namedtuple('Card', ['rank', 'suit'])"
   ]
  },
  {
   "cell_type": "code",
   "execution_count": 5,
   "metadata": {},
   "outputs": [
    {
     "name": "stdout",
     "output_type": "stream",
     "text": [
      "Card(rank='A', suit='spades')\n"
     ]
    }
   ],
   "source": [
    "ace_of_spades = Card('A', 'spades')\n",
    "print(ace_of_spades)"
   ]
  },
  {
   "cell_type": "markdown",
   "metadata": {},
   "source": [
    "Now let's use this simple class to build a deck of cards, `Deck`, which we can cycle through like a Python list. \n",
    "\n",
    "To allow for functionality such as `Deck[0] = Card(rank='A', suit='spades')`, we need to define the `__len__` and `__getitem__` special methods. \n",
    "\n",
    "`__len__` is necessary so that the class understands its length, for the purpose of e.g. `Deck[-1]`. \n",
    "\n",
    "Defining `__getitem__` allows us to evaluate the deck at any position, with e.g. slicing functionality."
   ]
  },
  {
   "cell_type": "code",
   "execution_count": 8,
   "metadata": {},
   "outputs": [],
   "source": [
    "# Deck class\n",
    "class Deck:\n",
    "    ranks: list[str] = [str(j) for j in range(2, 11)] + list('JQKA')\n",
    "    suits: list[str] = 'spades hearts diamonds clubs'.split()\n",
    "\n",
    "    def __init__(self):\n",
    "        self._cards = [Card(rank, suit) for suit in self.suits\n",
    "                                        for rank in self.ranks]\n",
    "    \n",
    "    def __len__(self):\n",
    "        return len(self._cards)\n",
    "    \n",
    "    def __getitem__(self, position):\n",
    "        return self._cards[position]"
   ]
  },
  {
   "cell_type": "code",
   "execution_count": 9,
   "metadata": {},
   "outputs": [
    {
     "name": "stdout",
     "output_type": "stream",
     "text": [
      "Card(rank='2', suit='spades')\n",
      "[Card(rank='2', suit='spades'), Card(rank='3', suit='spades'), Card(rank='4', suit='spades'), Card(rank='5', suit='spades')]\n",
      "Card(rank='A', suit='clubs')\n"
     ]
    }
   ],
   "source": [
    "deck = Deck()\n",
    "print(deck[0]) # first card\n",
    "print(deck[:4]) # first four cards\n",
    "print(deck[-1]) # last card"
   ]
  },
  {
   "cell_type": "code",
   "execution_count": null,
   "metadata": {},
   "outputs": [],
   "source": []
  }
 ],
 "metadata": {
  "kernelspec": {
   "display_name": "base",
   "language": "python",
   "name": "python3"
  },
  "language_info": {
   "codemirror_mode": {
    "name": "ipython",
    "version": 3
   },
   "file_extension": ".py",
   "mimetype": "text/x-python",
   "name": "python",
   "nbconvert_exporter": "python",
   "pygments_lexer": "ipython3",
   "version": "3.10.9"
  }
 },
 "nbformat": 4,
 "nbformat_minor": 2
}
