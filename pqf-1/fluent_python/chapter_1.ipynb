{
 "cells": [
  {
   "cell_type": "markdown",
   "metadata": {},
   "source": [
    "# Chapter 1: The Python Data Model"
   ]
  },
  {
   "cell_type": "markdown",
   "metadata": {},
   "source": [
    "In this chapter, we'll see how using the special methods in Python, e.g. `__len__` and `__getitem__`, allows us to implement familiar Python syntax in our classes for powerful, readable code."
   ]
  },
  {
   "cell_type": "markdown",
   "metadata": {},
   "source": [
    "## A Pythonic card deck"
   ]
  },
  {
   "cell_type": "markdown",
   "metadata": {},
   "source": [
    "We can leverage the standard library of Python packages to build classes quickly and effectively. Below, we construct a basic playing card class using `collections.namedtuple`. Then we use this simple class as a building block to construct a full deck of cards."
   ]
  },
  {
   "cell_type": "markdown",
   "metadata": {},
   "source": [
    "### Example 1.1: A deck of playing cards"
   ]
  },
  {
   "cell_type": "code",
   "execution_count": 1,
   "metadata": {},
   "outputs": [],
   "source": [
    "# Attributes-only class using namedtuple\n",
    "import collections\n",
    "Card = collections.namedtuple('Card', ['rank', 'suit'])"
   ]
  },
  {
   "cell_type": "code",
   "execution_count": 2,
   "metadata": {},
   "outputs": [
    {
     "name": "stdout",
     "output_type": "stream",
     "text": [
      "Card(rank='A', suit='spades')\n"
     ]
    }
   ],
   "source": [
    "ace_of_spades = Card('A', 'spades')\n",
    "print(ace_of_spades)"
   ]
  },
  {
   "cell_type": "markdown",
   "metadata": {},
   "source": [
    "Now let's use this simple class to build a deck of cards, `Deck`, which we can cycle through like a Python list. \n",
    "\n",
    "To allow for functionality such as `Deck[0] = Card(rank='A', suit='spades')`, we need to define the `__len__` and `__getitem__` special methods. \n",
    "\n",
    "`__len__` is necessary so that the class understands its length, for the purpose of e.g. `Deck[-1]`. \n",
    "\n",
    "Defining `__getitem__` allows us to evaluate the deck at any position, with e.g. slicing functionality."
   ]
  },
  {
   "cell_type": "code",
   "execution_count": 3,
   "metadata": {},
   "outputs": [],
   "source": [
    "# Deck class\n",
    "class Deck:\n",
    "    ranks: list[str] = [str(j) for j in range(2, 11)] + list('JQKA')\n",
    "    suits: list[str] = 'spades hearts diamonds clubs'.split()\n",
    "\n",
    "    def __init__(self):\n",
    "        self._cards = [Card(rank, suit) for suit in self.suits\n",
    "                                        for rank in self.ranks]\n",
    "    \n",
    "    def __len__(self):\n",
    "        return len(self._cards)\n",
    "    \n",
    "    def __getitem__(self, position):\n",
    "        return self._cards[position]"
   ]
  },
  {
   "cell_type": "code",
   "execution_count": 4,
   "metadata": {},
   "outputs": [
    {
     "name": "stdout",
     "output_type": "stream",
     "text": [
      "Card(rank='2', suit='spades')\n",
      "[Card(rank='2', suit='spades'), Card(rank='3', suit='spades'), Card(rank='4', suit='spades'), Card(rank='5', suit='spades')]\n",
      "Card(rank='A', suit='clubs')\n"
     ]
    }
   ],
   "source": [
    "deck = Deck()\n",
    "print(deck[0]) # first card\n",
    "print(deck[:4]) # first four cards\n",
    "print(deck[-1]) # last card"
   ]
  },
  {
   "cell_type": "markdown",
   "metadata": {},
   "source": [
    "**Note:** as it stands, the `Deck` class cannot be shuffled as it is **immutable**: the position of cards cannot be changed - they are locked away in `Deck._cards`, and handling this attribute directly is a violation of encapsulation. Chapter 13 of Fluent Python solves this problem with the `__setitem__` special method, but this is beyond the scope of the Bootcamp."
   ]
  },
  {
   "cell_type": "markdown",
   "metadata": {},
   "source": [
    "Let's write a function `card_strength` to determine the value of a card. For example, we should have `strength(Card('2', 'clubs')) = 1` and `strength(Card('2', 'diamonds')) = 2`, and so forth, all the way up to `strength(Card('A', 'spades')) = 52`."
   ]
  },
  {
   "cell_type": "code",
   "execution_count": 5,
   "metadata": {},
   "outputs": [],
   "source": [
    "# Value add-on for suit\n",
    "suit_strength: dict = dict(spades = 4, hearts = 3, diamonds = 2, clubs = 1)\n",
    "\n",
    "# Strength of a card\n",
    "def strength(card: Card) -> int:\n",
    "    return 4 * Deck.ranks.index(card.rank) + suit_strength[card.suit]"
   ]
  },
  {
   "cell_type": "markdown",
   "metadata": {},
   "source": [
    "Now we can sort the deck in strength order with `sorted`:"
   ]
  },
  {
   "cell_type": "code",
   "execution_count": 6,
   "metadata": {},
   "outputs": [
    {
     "name": "stdout",
     "output_type": "stream",
     "text": [
      "Card(rank='2', suit='clubs') has 1 strength\n",
      "Card(rank='2', suit='diamonds') has 2 strength\n",
      "Card(rank='2', suit='hearts') has 3 strength\n",
      "Card(rank='2', suit='spades') has 4 strength\n",
      "Card(rank='3', suit='clubs') has 5 strength\n",
      "Card(rank='3', suit='diamonds') has 6 strength\n",
      "Card(rank='3', suit='hearts') has 7 strength\n",
      "Card(rank='3', suit='spades') has 8 strength\n",
      "Card(rank='4', suit='clubs') has 9 strength\n",
      "Card(rank='4', suit='diamonds') has 10 strength\n",
      "Card(rank='4', suit='hearts') has 11 strength\n",
      "Card(rank='4', suit='spades') has 12 strength\n",
      "Card(rank='5', suit='clubs') has 13 strength\n",
      "Card(rank='5', suit='diamonds') has 14 strength\n",
      "Card(rank='5', suit='hearts') has 15 strength\n",
      "Card(rank='5', suit='spades') has 16 strength\n",
      "Card(rank='6', suit='clubs') has 17 strength\n",
      "Card(rank='6', suit='diamonds') has 18 strength\n",
      "Card(rank='6', suit='hearts') has 19 strength\n",
      "Card(rank='6', suit='spades') has 20 strength\n",
      "Card(rank='7', suit='clubs') has 21 strength\n",
      "Card(rank='7', suit='diamonds') has 22 strength\n",
      "Card(rank='7', suit='hearts') has 23 strength\n",
      "Card(rank='7', suit='spades') has 24 strength\n",
      "Card(rank='8', suit='clubs') has 25 strength\n",
      "Card(rank='8', suit='diamonds') has 26 strength\n",
      "Card(rank='8', suit='hearts') has 27 strength\n",
      "Card(rank='8', suit='spades') has 28 strength\n",
      "Card(rank='9', suit='clubs') has 29 strength\n",
      "Card(rank='9', suit='diamonds') has 30 strength\n",
      "Card(rank='9', suit='hearts') has 31 strength\n",
      "Card(rank='9', suit='spades') has 32 strength\n",
      "Card(rank='10', suit='clubs') has 33 strength\n",
      "Card(rank='10', suit='diamonds') has 34 strength\n",
      "Card(rank='10', suit='hearts') has 35 strength\n",
      "Card(rank='10', suit='spades') has 36 strength\n",
      "Card(rank='J', suit='clubs') has 37 strength\n",
      "Card(rank='J', suit='diamonds') has 38 strength\n",
      "Card(rank='J', suit='hearts') has 39 strength\n",
      "Card(rank='J', suit='spades') has 40 strength\n",
      "Card(rank='Q', suit='clubs') has 41 strength\n",
      "Card(rank='Q', suit='diamonds') has 42 strength\n",
      "Card(rank='Q', suit='hearts') has 43 strength\n",
      "Card(rank='Q', suit='spades') has 44 strength\n",
      "Card(rank='K', suit='clubs') has 45 strength\n",
      "Card(rank='K', suit='diamonds') has 46 strength\n",
      "Card(rank='K', suit='hearts') has 47 strength\n",
      "Card(rank='K', suit='spades') has 48 strength\n",
      "Card(rank='A', suit='clubs') has 49 strength\n",
      "Card(rank='A', suit='diamonds') has 50 strength\n",
      "Card(rank='A', suit='hearts') has 51 strength\n",
      "Card(rank='A', suit='spades') has 52 strength\n"
     ]
    }
   ],
   "source": [
    "# Sorted deck\n",
    "for card in sorted(deck, key=strength):\n",
    "    print(f'{card} has {strength(card)} strength')"
   ]
  },
  {
   "cell_type": "markdown",
   "metadata": {},
   "source": [
    "In general, any iterable can be sorted in an order determined by a function, `key`, with the `sorted(iterable, key)` method. By default this order is ascending, but you can add the `reverse=True` attribute for descending order.\n",
    "\n",
    "You start to feel that, even though this example involves a basic deck of cards, such Pythonic syntax can be used for much more powerful examples in programming."
   ]
  },
  {
   "cell_type": "markdown",
   "metadata": {},
   "source": [
    "## How special methods are used"
   ]
  },
  {
   "cell_type": "markdown",
   "metadata": {},
   "source": [
    "Special methods are meant to be called by the Python interpreter. Whilst you will implement special methods frequently, you seldom call them directly. For example, you don't write `Deck.__len__()` but instead `len(Deck)`."
   ]
  },
  {
   "cell_type": "markdown",
   "metadata": {},
   "source": [
    "### Emulating numeric types"
   ]
  },
  {
   "cell_type": "markdown",
   "metadata": {},
   "source": [
    "Let's demonstrate the power of special methods further with another simple example: creating a 2D `Vector` class that behaves exactly as we would expect.\n",
    "\n",
    "First, let's design the API for the class by writing a simple test that we hope to hold true for the solution:\n",
    "\n",
    "```\n",
    ">>> v = Vector(3, 4)\n",
    ">>> w = Vector(4, -1)\n",
    "\n",
    ">>> v + w\n",
    ">>> Vector(7, 3)\n",
    "\n",
    ">>> abs(v)\n",
    ">>> 5.0\n",
    "\n",
    ">>> v * 3\n",
    ">>> Vector(9, 12)\n",
    "```"
   ]
  },
  {
   "cell_type": "markdown",
   "metadata": {},
   "source": [
    "In particular, note that the `+` operator works with `Vector` classes, and returns a `Vector`."
   ]
  },
  {
   "cell_type": "markdown",
   "metadata": {},
   "source": [
    "### Example 1.2: A two-dimensional vector class"
   ]
  },
  {
   "cell_type": "code",
   "execution_count": 8,
   "metadata": {},
   "outputs": [],
   "source": [
    "from math import sqrt\n",
    "\n",
    "# Vector class\n",
    "class Vector:\n",
    "    def __init__(self, x, y):\n",
    "        self.x = x\n",
    "        self.y = y\n",
    "\n",
    "    # String representation in the console\n",
    "    def __repr__(self):\n",
    "        return f'Vector({self.x}, {self.y})'\n",
    "    \n",
    "    # Adding\n",
    "    def __add__(self, other):\n",
    "        return Vector(self.x + other.x, self.y + other.y)\n",
    "\n",
    "    # Scalar multiplication\n",
    "    def __mul__(self, scalar):\n",
    "        return Vector(self.x * scalar, self.y * scalar)\n",
    "        '''\n",
    "        NOTE: this implementation only allows v * 3. Writing 3 * v will NOT work.\n",
    "        This can be fixed with the special method __rmul__, explored in Fluent Python Chapter 13.\n",
    "        '''\n",
    "\n",
    "    # Modulus\n",
    "    def __abs__(self):\n",
    "        return sqrt(self.x**2 + self.y**2)\n",
    "    \n",
    "    # Return false for zero vector\n",
    "    def __bool__(self):\n",
    "        return bool(abs(self))\n",
    "        '''\n",
    "        NOTE: A faster way of writing this is \n",
    "        return bool(self.x or self.y)\n",
    "        as you avoid using abs, sqrt and squaring. But this way is less readable.\n",
    "        We also need to use bool(x or y) here: writing (x or y) returns an object e.g. x if bool(x) is True. \n",
    "        '''"
   ]
  },
  {
   "cell_type": "markdown",
   "metadata": {},
   "source": [
    "There are a few new special methods here. The mathematical ones should feel intuitive, but let's discuss `__repr__` and `__bool__`.\n",
    " \n",
    "`__repr__` is used to provide a string representation of the class object when called in the console. An object would otherwise show as e.g. `<Vector object at 0x10e100080>`. The convention with string representations is to make them unambiguous and match the code required to create the object in the first place. For example, calling `v` from earlier would give `Vector(3, 4)`, which is exactly what we would write in the console to construct such an object.\n",
    "\n",
    "`__bool__` is used to determine whether instances of a user-defined class are \"true-like\" or \"false-like\". For our `Vector` class we have defined `__bool__` in such a way that intuitively follows from the idea of 0 = False and 1 = True. In general, `bool(object)` is calculated by first checking if `object.__bool__()` is defined: if not, then Python tries `object.__len__()`. If this returns 0, then `bool(object)` returns `False`. If not, or if `__len__` is also undefined for the object, Python returns `True`.\n",
    "\n",
    "**Note**: Another special method, `__str__`, is implicitly used by the print function and should return a string suitable for displaying to end users. This special method could be used to give further (small) amounts of detail, but is not crucial. `__str__` will use `__repr__` as a fallback if `__str__` is not defined. "
   ]
  },
  {
   "cell_type": "code",
   "execution_count": 12,
   "metadata": {},
   "outputs": [
    {
     "name": "stdout",
     "output_type": "stream",
     "text": [
      "Vector(7, 3)\n",
      "5.0\n",
      "Vector(9, 12)\n"
     ]
    }
   ],
   "source": [
    "v = Vector(3, 4)\n",
    "w = Vector(4, -1)\n",
    "\n",
    "print(v + w)\n",
    "print(abs(v))\n",
    "print(v * 3)"
   ]
  },
  {
   "cell_type": "markdown",
   "metadata": {},
   "source": [
    "**Challenge**: extend `Vector` to $n$ dimensions."
   ]
  },
  {
   "cell_type": "code",
   "execution_count": 15,
   "metadata": {},
   "outputs": [],
   "source": [
    "class VectorND:\n",
    "    # TODO\n",
    "    pass"
   ]
  },
  {
   "cell_type": "markdown",
   "metadata": {},
   "source": [
    "## Summary"
   ]
  },
  {
   "cell_type": "markdown",
   "metadata": {},
   "source": [
    "- Implementing special methods can make your objects behave like Python built-in types\n",
    "- A basic requirement for a Python object is to provide usable string representations of itself for debugging and logging (using `__repr__`) and presentation to end-users (`__str__`)\n",
    "- Emulating sequences, as done earlier in the `Deck` class, is one of the most common applications of special methods"
   ]
  },
  {
   "cell_type": "markdown",
   "metadata": {},
   "source": [
    "## Further reading"
   ]
  },
  {
   "cell_type": "markdown",
   "metadata": {},
   "source": [
    "- [The Python Language Reference - Data Model chapter](https://docs.python.org/3/reference/datamodel.html)"
   ]
  }
 ],
 "metadata": {
  "kernelspec": {
   "display_name": "base",
   "language": "python",
   "name": "python3"
  },
  "language_info": {
   "codemirror_mode": {
    "name": "ipython",
    "version": 3
   },
   "file_extension": ".py",
   "mimetype": "text/x-python",
   "name": "python",
   "nbconvert_exporter": "python",
   "pygments_lexer": "ipython3",
   "version": "3.10.9"
  }
 },
 "nbformat": 4,
 "nbformat_minor": 2
}
